{
 "cells": [
  {
   "cell_type": "markdown",
   "metadata": {},
   "source": [
    "## Detection of roadside vegetation"
   ]
  },
  {
   "cell_type": "markdown",
   "metadata": {},
   "source": [
    "## Imports"
   ]
  },
  {
   "cell_type": "code",
   "execution_count": 1,
   "metadata": {
    "collapsed": false
   },
   "outputs": [],
   "source": [
    "import cv2\n",
    "import numpy as np\n",
    "import matplotlib.pyplot as plt\n",
    "\n",
    "from modules.ml_utils import * \n",
    "from modules.image_utils import *\n",
    "from modules.utils import *\n",
    "from modules.image_sample import ImageSample\n",
    "from find_green import simple_find_green\n",
    "from modules.preprocess import Preprocess\n",
    "%matplotlib inline"
   ]
  },
  {
   "cell_type": "code",
   "execution_count": 2,
   "metadata": {
    "collapsed": true
   },
   "outputs": [],
   "source": [
    "cv2.destroyAllWindows()"
   ]
  },
  {
   "cell_type": "markdown",
   "metadata": {
    "collapsed": true
   },
   "source": [
    "## Simple 'find green' method"
   ]
  },
  {
   "cell_type": "code",
   "execution_count": 7,
   "metadata": {
    "collapsed": false
   },
   "outputs": [],
   "source": [
    "file_path = '/home/marko/ssip/pysolution/denis_rsz.jpg'\n",
    "img = cv2.imread(file_path)\n",
    "result = simple_find_green(file_path)\n",
    "res = np.hstack((img,binarized_to_rgb(result)))\n",
    "cv2_imshow('res', res)\n"
   ]
  },
  {
   "cell_type": "code",
   "execution_count": 9,
   "metadata": {
    "collapsed": true
   },
   "outputs": [],
   "source": [
    "# CLAHE demo\n",
    "img = cv2.imread('/home/marko/ssip/pysolution/denis_rsz.jpg')\n",
    "normalized = apply_clahe_rgb(img)\n",
    "res = np.hstack((img,normalized))\n",
    "cv2_imshow('res',res)"
   ]
  },
  {
   "cell_type": "markdown",
   "metadata": {},
   "source": [
    "# Train model"
   ]
  },
  {
   "cell_type": "code",
   "execution_count": 10,
   "metadata": {
    "collapsed": false
   },
   "outputs": [],
   "source": [
    "# initialize directories\n",
    "root_dir = './data/textures'\n",
    "positive_textures = os.path.join(root_dir, 'positive')\n",
    "negative_textures = os.path.join(root_dir, 'negative')\n",
    "\n",
    "negative_files = list_files(negative_textures)\n",
    "positive_files = list_files(positive_textures)\n"
   ]
  },
  {
   "cell_type": "code",
   "execution_count": 11,
   "metadata": {
    "collapsed": false
   },
   "outputs": [],
   "source": [
    "# load textures\n",
    "samples = []\n",
    "\n",
    "def load_labeles_samples(files, label): \n",
    "    return [(ImageSample(path=img_file), label) for img_file in files]\n",
    "\n",
    "samples = []\n",
    "samples.extend(load_labeles_samples(negative_files, 0))\n",
    "samples.extend(load_labeles_samples(positive_files, 1))\n",
    "    "
   ]
  },
  {
   "cell_type": "code",
   "execution_count": 12,
   "metadata": {
    "collapsed": false
   },
   "outputs": [],
   "source": [
    "# load samples\n",
    "X = []\n",
    "y = []\n",
    "samples_per_texture = 1024\n",
    "\n",
    "for img_sample, label in samples:\n",
    "    X.extend(img_sample.to_samples(samples_per_texture))\n",
    "    y.extend([label] * samples_per_texture)"
   ]
  },
  {
   "cell_type": "code",
   "execution_count": 14,
   "metadata": {
    "collapsed": false
   },
   "outputs": [
    {
     "name": "stdout",
     "output_type": "stream",
     "text": [
      "# Sample images 161\n",
      "# samples 164864\n",
      "# labels 164864\n",
      "# features 160\n"
     ]
    }
   ],
   "source": [
    "# sanity check\n",
    "print '# Sample images', len(samples)\n",
    "print '# samples', len(X)\n",
    "print '# labels', len(y)\n",
    "print '# features', len(X[0])"
   ]
  },
  {
   "cell_type": "markdown",
   "metadata": {
    "collapsed": false
   },
   "source": [
    "### Try different models"
   ]
  },
  {
   "cell_type": "code",
   "execution_count": 15,
   "metadata": {
    "collapsed": false
   },
   "outputs": [],
   "source": [
    "models = [DummyClassifier(), GaussianNB(), LinearSVC(), SVC(), DecisionTreeClassifier(), RandomForestClassifier()]\n",
    "parameters = [{}, {}, {},{'kernel':('linear', 'rbf','poly','sigmoid')},{}, {}]\n",
    "\n",
    "models = [GaussianNB()]\n",
    "parameters = [{}]"
   ]
  },
  {
   "cell_type": "code",
   "execution_count": 16,
   "metadata": {
    "collapsed": false
   },
   "outputs": [
    {
     "name": "stdout",
     "output_type": "stream",
     "text": [
      "Fitting 10 folds for each of 1 candidates, totalling 10 fits\n"
     ]
    },
    {
     "name": "stderr",
     "output_type": "stream",
     "text": [
      "[Parallel(n_jobs=-1)]: Done   1 jobs       | elapsed:    0.5s\n",
      "[Parallel(n_jobs=-1)]: Done   7 out of  10 | elapsed:    2.1s remaining:    0.9s\n",
      "[Parallel(n_jobs=-1)]: Done  10 out of  10 | elapsed:    2.7s finished\n"
     ]
    },
    {
     "name": "stdout",
     "output_type": "stream",
     "text": [
      "Model GaussianNB()\n",
      "Model best_params: {}\n",
      "Model score : 0.730226445613\n",
      "Confusion matrix:\n",
      " [[20197  3718]\n",
      " [ 9625 15920]]\n",
      "binary scores:\n",
      "\t P  = 0.677251693381\n",
      "\t R  = 0.84453272005\n",
      "\t F1 = 0.751698085118\n"
     ]
    }
   ],
   "source": [
    "evaluate_models(X, y, models, parameters, verbose=True)"
   ]
  },
  {
   "cell_type": "markdown",
   "metadata": {},
   "source": [
    "### Single model training"
   ]
  },
  {
   "cell_type": "code",
   "execution_count": 15,
   "metadata": {
    "collapsed": false
   },
   "outputs": [
    {
     "name": "stdout",
     "output_type": "stream",
     "text": [
      "micro scores:\n",
      "\t P  = 0.997903018959\n",
      "\t R  = 0.997903018959\n",
      "\t F1 = 0.997903018959\n",
      "micro scores:\n",
      "\t P  = 0.942842701173\n",
      "\t R  = 0.942842701173\n",
      "\t F1 = 0.942842701173\n"
     ]
    }
   ],
   "source": [
    "X_train, X_test, y_train, y_test = train_test_split(X, y, test_size=0.3)\n",
    "model = RandomForestClassifier()\n",
    "model.fit(X_train, y_train)\n",
    "printScore(y_train, model.predict(X_train))\n",
    "printScore(y_test, model.predict(X_test))"
   ]
  },
  {
   "cell_type": "code",
   "execution_count": 16,
   "metadata": {
    "collapsed": true
   },
   "outputs": [],
   "source": [
    "# Free data from textures\n",
    "X = []\n",
    "y = []\n",
    "X_train = X_test = y_train = y_test = []"
   ]
  },
  {
   "cell_type": "code",
   "execution_count": 17,
   "metadata": {
    "collapsed": false
   },
   "outputs": [],
   "source": [
    "# Store model\n",
    "filename = './stored_models/tree_clahe.joblib.pkl'\n",
    "store_model(filename, model)"
   ]
  },
  {
   "cell_type": "code",
   "execution_count": 3,
   "metadata": {
    "collapsed": false
   },
   "outputs": [],
   "source": [
    "# Load saved model\n",
    "filename = './stored_models/tree2.joblib.pkl'\n",
    "model = load_model(filename)"
   ]
  },
  {
   "cell_type": "code",
   "execution_count": 4,
   "metadata": {
    "collapsed": false
   },
   "outputs": [],
   "source": [
    "@time_usage\n",
    "def analyze_single_image(file_path, model):\n",
    "    print 'Processing file', file_path\n",
    "    img = cv2.imread(file_path)\n",
    "    #img = cv2_resize(img, y=600)\n",
    "\n",
    "    img_name = os.path.basename(file_path).split('.')[0]\n",
    "    #file_path = './' + img_name + '_rsz.jpg'\n",
    "    #cv2.imwrite(file_path, img)\n",
    "\n",
    "\n",
    "    out_path = './' + img_name + '_out.jpg'\n",
    "    img = ImageSample(path=file_path)\n",
    "    #raw_input('continue')\n",
    "    result = img.find_vegetation(model)\n",
    "    simple = simple_find_green(file_path)\n",
    "\n",
    "    simple[simple==1] = 255\n",
    "    result[result==1] = 255\n",
    "    result = binarized_to_rgb(result)\n",
    "    simple = binarized_to_rgb(simple)\n",
    "\n",
    "\n",
    "    grid = np.hstack([img.img_rgb, result, simple])\n",
    "    cv2.imwrite(out_path, grid)\n",
    "    \n",
    "def analyze_whole_dir(dir_path, model):\n",
    "    for file_path in  list_files(dir_path):\n",
    "        analyze_single_image(file_path, model)"
   ]
  },
  {
   "cell_type": "code",
   "execution_count": 8,
   "metadata": {
    "collapsed": false
   },
   "outputs": [
    {
     "name": "stdout",
     "output_type": "stream",
     "text": [
      "Processing file /home/marko/PycharmProjects/SSIP16/data/ssip_data/test.jpg\n"
     ]
    }
   ],
   "source": [
    "# single image\n",
    "file_path = '/home/marko/PycharmProjects/SSIP16/data/ssip_data/test.jpg'\n",
    "analyze_single_image(file_path, model)"
   ]
  },
  {
   "cell_type": "code",
   "execution_count": 5,
   "metadata": {
    "collapsed": false
   },
   "outputs": [
    {
     "name": "stdout",
     "output_type": "stream",
     "text": [
      "Processing file /home/marko/PycharmProjects/SSIP16/data/ssip_data/test8.jpg\n",
      "Processing file /home/marko/PycharmProjects/SSIP16/data/ssip_data/test10.jpg\n",
      "Processing file /home/marko/PycharmProjects/SSIP16/data/ssip_data/test15.jpg\n",
      "Processing file /home/marko/PycharmProjects/SSIP16/data/ssip_data/test11.jpg\n",
      "Processing file /home/marko/PycharmProjects/SSIP16/data/ssip_data/test3.jpg\n",
      "Processing file /home/marko/PycharmProjects/SSIP16/data/ssip_data/test1.jpg\n",
      "Processing file /home/marko/PycharmProjects/SSIP16/data/ssip_data/test13.jpg\n",
      "Processing file /home/marko/PycharmProjects/SSIP16/data/ssip_data/test2.jpg\n",
      "Processing file /home/marko/PycharmProjects/SSIP16/data/ssip_data/test12.jpg\n",
      "Processing file /home/marko/PycharmProjects/SSIP16/data/ssip_data/test16.jpg\n",
      "Processing file /home/marko/PycharmProjects/SSIP16/data/ssip_data/test9.jpg\n",
      "Processing file /home/marko/PycharmProjects/SSIP16/data/ssip_data/test7.jpg\n",
      "Processing file /home/marko/PycharmProjects/SSIP16/data/ssip_data/test0.jpg\n",
      "Processing file /home/marko/PycharmProjects/SSIP16/data/ssip_data/test14.jpg\n",
      "Processing file /home/marko/PycharmProjects/SSIP16/data/ssip_data/test5.jpg\n",
      "Processing file /home/marko/PycharmProjects/SSIP16/data/ssip_data/test6.jpg\n",
      "Processing file /home/marko/PycharmProjects/SSIP16/data/ssip_data/test4.jpg\n",
      "Processing file /home/marko/PycharmProjects/SSIP16/data/ssip_data/test.jpg\n"
     ]
    }
   ],
   "source": [
    "# whole directory analysis\n",
    "dir_path = '/home/marko/PycharmProjects/SSIP16/data/ssip_data/'\n",
    "analyze_whole_dir(dir_path, model)"
   ]
  },
  {
   "cell_type": "code",
   "execution_count": 28,
   "metadata": {
    "collapsed": true
   },
   "outputs": [],
   "source": [
    "cv2.destroyAllWindows()\n"
   ]
  },
  {
   "cell_type": "markdown",
   "metadata": {
    "collapsed": true
   },
   "source": [
    "# Texture annotator\n",
    "\n",
    "slides rect across photo and user types 1 for positive sample or 0 for negative sample"
   ]
  },
  {
   "cell_type": "code",
   "execution_count": 10,
   "metadata": {
    "collapsed": false
   },
   "outputs": [
    {
     "name": "stdout",
     "output_type": "stream",
     "text": [
      "./data/images/v2.jpg 1800 2405\n",
      "Completed\n"
     ]
    }
   ],
   "source": [
    "list_files = lambda path: [os.path.join(path, img_path) for img_path in os.listdir(path)]\n",
    "root = './data/images'\n",
    "pos_dir = './new_textures/pos/'\n",
    "neg_dir = './new_textures/neg/'\n",
    "map(init_dir, [root, pos_dir, neg_dir])\n",
    "\n",
    "\n",
    "rect_size = 150\n",
    "step = 15\n",
    "current_id  = 0\n",
    "\n",
    "for file_path in list_files(root):\n",
    "    img = cv2.imread(file_path)\n",
    "    height, width, _ = img.shape\n",
    "    print file_path, height, width\n",
    "    i, j = (0, 0)\n",
    "    \n",
    "    def get_file_name(dir_path, i):\n",
    "        return os.path.join(dir_path, '%d.jpg' % i)\n",
    "    \n",
    "    def slide_rect():\n",
    "        global current_id, i, j\n",
    "        def out_of_range(i, j):\n",
    "            return i < 0 or i >= (height - rect_size) \\\n",
    "                    or j < 0 or j >= (width - rect_size)\n",
    "        while True:\n",
    " \n",
    "                tmp = img.copy()\n",
    "                texture = img[i:i+rect_size, j:j+rect_size,]\n",
    "                cv2.rectangle(tmp,(j, i),(j+rect_size,i+rect_size),(0,255,0),3)\n",
    "                \n",
    "\n",
    "                cv2.imshow('original', tmp)\n",
    "                cv2.imshow('texture', texture)\n",
    "                key = cv2.waitKey(0) \n",
    "                \n",
    "                di = 0\n",
    "                dj = 0\n",
    "                if key == ord('n'): \n",
    "                    print 'continue'; return\n",
    "                elif key == ord('q'): \n",
    "                    return True\n",
    "                #store texture\n",
    "                elif key == ord('1'):\n",
    "                    current_id += 1; \n",
    "                    cv2.imwrite(get_file_name(pos_dir, current_id), texture)\n",
    "                elif key == ord('2'):\n",
    "                    current_id += 1; \n",
    "                    cv2.imwrite(get_file_name(neg_dir, current_id), texture)\n",
    "                # movement\n",
    "                elif key == ord('w'): di = -step\n",
    "                elif key == ord('s'): di = step\n",
    "                elif key == ord('a'): dj = -step\n",
    "                elif key == ord('d'): dj = step\n",
    "                    \n",
    "                ni, nj = (i+di, j+dj)\n",
    "                if not out_of_range(ni, nj):\n",
    "                    i, j = (ni, nj)\n",
    "                    \n",
    "                    \n",
    "    ret = slide_rect()\n",
    "    if ret: break\n",
    "print 'Completed'"
   ]
  },
  {
   "cell_type": "code",
   "execution_count": 11,
   "metadata": {
    "collapsed": false
   },
   "outputs": [],
   "source": [
    "cv2.destroyAllWindows()"
   ]
  },
  {
   "cell_type": "code",
   "execution_count": null,
   "metadata": {
    "collapsed": true
   },
   "outputs": [],
   "source": []
  }
 ],
 "metadata": {
  "kernelspec": {
   "display_name": "Python 2",
   "language": "python",
   "name": "python2"
  },
  "language_info": {
   "codemirror_mode": {
    "name": "ipython",
    "version": 2
   },
   "file_extension": ".py",
   "mimetype": "text/x-python",
   "name": "python",
   "nbconvert_exporter": "python",
   "pygments_lexer": "ipython2",
   "version": "2.7.6"
  }
 },
 "nbformat": 4,
 "nbformat_minor": 0
}
